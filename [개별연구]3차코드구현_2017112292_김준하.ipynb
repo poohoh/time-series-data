{
  "nbformat": 4,
  "nbformat_minor": 0,
  "metadata": {
    "colab": {
      "provenance": []
    },
    "kernelspec": {
      "name": "python3",
      "display_name": "Python 3"
    },
    "language_info": {
      "name": "python"
    }
  },
  "cells": [
    {
      "cell_type": "code",
      "execution_count": 567,
      "metadata": {
        "id": "VpYlz2vF0DCM"
      },
      "outputs": [],
      "source": [
        "import tensorflow as tf\n",
        "import numpy as np\n",
        "import pandas as pd\n",
        "import matplotlib.pyplot as plt\n",
        "from tensorflow.keras.models import Sequential\n",
        "from tensorflow.keras.layers import LSTM, Dense, Dropout\n",
        "from tensorflow.keras.callbacks import EarlyStopping\n",
        "from sklearn.preprocessing import MinMaxScaler\n",
        "import random\n",
        "\n",
        "seed_num = 42\n",
        "np.random.seed(seed_num)\n",
        "random.seed(seed_num)\n",
        "tf.random.set_seed(seed_num)"
      ]
    },
    {
      "cell_type": "code",
      "source": [
        "#데이터 가져오기\n",
        "data = pd.read_csv('samsung.csv')\n",
        "\n",
        "data.head()"
      ],
      "metadata": {
        "colab": {
          "base_uri": "https://localhost:8080/",
          "height": 206
        },
        "id": "t_Rrria70J2l",
        "outputId": "4dc81757-806c-4609-87f5-16a1fb377ce4"
      },
      "execution_count": 568,
      "outputs": [
        {
          "output_type": "execute_result",
          "data": {
            "text/plain": [
              "         Date   Open   High    Low  Close    Adj Close    Volume\n",
              "0  2017-12-01  50800  51780  50800  50840  43719.54688  12868600\n",
              "1  2017-12-04  50840  51340  50020  51340  44149.51953  14865050\n",
              "2  2017-12-05  50600  51300  50280  51260  44080.72656   9326550\n",
              "3  2017-12-06  51260  51560  50020  50020  43014.37500  10889200\n",
              "4  2017-12-07  50040  50980  50020  50740  43633.54688  11065600"
            ],
            "text/html": [
              "\n",
              "  <div id=\"df-e03eb4cd-ead0-44c5-9356-1534be0fcc6b\">\n",
              "    <div class=\"colab-df-container\">\n",
              "      <div>\n",
              "<style scoped>\n",
              "    .dataframe tbody tr th:only-of-type {\n",
              "        vertical-align: middle;\n",
              "    }\n",
              "\n",
              "    .dataframe tbody tr th {\n",
              "        vertical-align: top;\n",
              "    }\n",
              "\n",
              "    .dataframe thead th {\n",
              "        text-align: right;\n",
              "    }\n",
              "</style>\n",
              "<table border=\"1\" class=\"dataframe\">\n",
              "  <thead>\n",
              "    <tr style=\"text-align: right;\">\n",
              "      <th></th>\n",
              "      <th>Date</th>\n",
              "      <th>Open</th>\n",
              "      <th>High</th>\n",
              "      <th>Low</th>\n",
              "      <th>Close</th>\n",
              "      <th>Adj Close</th>\n",
              "      <th>Volume</th>\n",
              "    </tr>\n",
              "  </thead>\n",
              "  <tbody>\n",
              "    <tr>\n",
              "      <th>0</th>\n",
              "      <td>2017-12-01</td>\n",
              "      <td>50800</td>\n",
              "      <td>51780</td>\n",
              "      <td>50800</td>\n",
              "      <td>50840</td>\n",
              "      <td>43719.54688</td>\n",
              "      <td>12868600</td>\n",
              "    </tr>\n",
              "    <tr>\n",
              "      <th>1</th>\n",
              "      <td>2017-12-04</td>\n",
              "      <td>50840</td>\n",
              "      <td>51340</td>\n",
              "      <td>50020</td>\n",
              "      <td>51340</td>\n",
              "      <td>44149.51953</td>\n",
              "      <td>14865050</td>\n",
              "    </tr>\n",
              "    <tr>\n",
              "      <th>2</th>\n",
              "      <td>2017-12-05</td>\n",
              "      <td>50600</td>\n",
              "      <td>51300</td>\n",
              "      <td>50280</td>\n",
              "      <td>51260</td>\n",
              "      <td>44080.72656</td>\n",
              "      <td>9326550</td>\n",
              "    </tr>\n",
              "    <tr>\n",
              "      <th>3</th>\n",
              "      <td>2017-12-06</td>\n",
              "      <td>51260</td>\n",
              "      <td>51560</td>\n",
              "      <td>50020</td>\n",
              "      <td>50020</td>\n",
              "      <td>43014.37500</td>\n",
              "      <td>10889200</td>\n",
              "    </tr>\n",
              "    <tr>\n",
              "      <th>4</th>\n",
              "      <td>2017-12-07</td>\n",
              "      <td>50040</td>\n",
              "      <td>50980</td>\n",
              "      <td>50020</td>\n",
              "      <td>50740</td>\n",
              "      <td>43633.54688</td>\n",
              "      <td>11065600</td>\n",
              "    </tr>\n",
              "  </tbody>\n",
              "</table>\n",
              "</div>\n",
              "      <button class=\"colab-df-convert\" onclick=\"convertToInteractive('df-e03eb4cd-ead0-44c5-9356-1534be0fcc6b')\"\n",
              "              title=\"Convert this dataframe to an interactive table.\"\n",
              "              style=\"display:none;\">\n",
              "        \n",
              "  <svg xmlns=\"http://www.w3.org/2000/svg\" height=\"24px\"viewBox=\"0 0 24 24\"\n",
              "       width=\"24px\">\n",
              "    <path d=\"M0 0h24v24H0V0z\" fill=\"none\"/>\n",
              "    <path d=\"M18.56 5.44l.94 2.06.94-2.06 2.06-.94-2.06-.94-.94-2.06-.94 2.06-2.06.94zm-11 1L8.5 8.5l.94-2.06 2.06-.94-2.06-.94L8.5 2.5l-.94 2.06-2.06.94zm10 10l.94 2.06.94-2.06 2.06-.94-2.06-.94-.94-2.06-.94 2.06-2.06.94z\"/><path d=\"M17.41 7.96l-1.37-1.37c-.4-.4-.92-.59-1.43-.59-.52 0-1.04.2-1.43.59L10.3 9.45l-7.72 7.72c-.78.78-.78 2.05 0 2.83L4 21.41c.39.39.9.59 1.41.59.51 0 1.02-.2 1.41-.59l7.78-7.78 2.81-2.81c.8-.78.8-2.07 0-2.86zM5.41 20L4 18.59l7.72-7.72 1.47 1.35L5.41 20z\"/>\n",
              "  </svg>\n",
              "      </button>\n",
              "      \n",
              "  <style>\n",
              "    .colab-df-container {\n",
              "      display:flex;\n",
              "      flex-wrap:wrap;\n",
              "      gap: 12px;\n",
              "    }\n",
              "\n",
              "    .colab-df-convert {\n",
              "      background-color: #E8F0FE;\n",
              "      border: none;\n",
              "      border-radius: 50%;\n",
              "      cursor: pointer;\n",
              "      display: none;\n",
              "      fill: #1967D2;\n",
              "      height: 32px;\n",
              "      padding: 0 0 0 0;\n",
              "      width: 32px;\n",
              "    }\n",
              "\n",
              "    .colab-df-convert:hover {\n",
              "      background-color: #E2EBFA;\n",
              "      box-shadow: 0px 1px 2px rgba(60, 64, 67, 0.3), 0px 1px 3px 1px rgba(60, 64, 67, 0.15);\n",
              "      fill: #174EA6;\n",
              "    }\n",
              "\n",
              "    [theme=dark] .colab-df-convert {\n",
              "      background-color: #3B4455;\n",
              "      fill: #D2E3FC;\n",
              "    }\n",
              "\n",
              "    [theme=dark] .colab-df-convert:hover {\n",
              "      background-color: #434B5C;\n",
              "      box-shadow: 0px 1px 3px 1px rgba(0, 0, 0, 0.15);\n",
              "      filter: drop-shadow(0px 1px 2px rgba(0, 0, 0, 0.3));\n",
              "      fill: #FFFFFF;\n",
              "    }\n",
              "  </style>\n",
              "\n",
              "      <script>\n",
              "        const buttonEl =\n",
              "          document.querySelector('#df-e03eb4cd-ead0-44c5-9356-1534be0fcc6b button.colab-df-convert');\n",
              "        buttonEl.style.display =\n",
              "          google.colab.kernel.accessAllowed ? 'block' : 'none';\n",
              "\n",
              "        async function convertToInteractive(key) {\n",
              "          const element = document.querySelector('#df-e03eb4cd-ead0-44c5-9356-1534be0fcc6b');\n",
              "          const dataTable =\n",
              "            await google.colab.kernel.invokeFunction('convertToInteractive',\n",
              "                                                     [key], {});\n",
              "          if (!dataTable) return;\n",
              "\n",
              "          const docLinkHtml = 'Like what you see? Visit the ' +\n",
              "            '<a target=\"_blank\" href=https://colab.research.google.com/notebooks/data_table.ipynb>data table notebook</a>'\n",
              "            + ' to learn more about interactive tables.';\n",
              "          element.innerHTML = '';\n",
              "          dataTable['output_type'] = 'display_data';\n",
              "          await google.colab.output.renderOutput(dataTable, element);\n",
              "          const docLink = document.createElement('div');\n",
              "          docLink.innerHTML = docLinkHtml;\n",
              "          element.appendChild(docLink);\n",
              "        }\n",
              "      </script>\n",
              "    </div>\n",
              "  </div>\n",
              "  "
            ]
          },
          "metadata": {},
          "execution_count": 568
        }
      ]
    },
    {
      "cell_type": "code",
      "source": [],
      "metadata": {
        "id": "rYUWPy4P3hfG"
      },
      "execution_count": 568,
      "outputs": []
    },
    {
      "cell_type": "code",
      "source": [
        "#원본 데이터 출력\n",
        "plt.plot(data['Adj Close'], label='Adj Close')\n",
        "\n",
        "plt.show()"
      ],
      "metadata": {
        "colab": {
          "base_uri": "https://localhost:8080/",
          "height": 268
        },
        "id": "EW9WXucE0gvq",
        "outputId": "a5fcd65e-65da-4b06-9983-600e0809010b"
      },
      "execution_count": 569,
      "outputs": [
        {
          "output_type": "display_data",
          "data": {
            "text/plain": [
              "<Figure size 432x288 with 1 Axes>"
            ],
            "image/png": "[encoded data removed]"
          },
          "metadata": {
            "needs_background": "light"
          }
        }
      ]
    },
    {
      "cell_type": "code",
      "source": [
        "# 원본 데이터의 정보 출력\n",
        "\n",
        "data.describe()"
      ],
      "metadata": {
        "colab": {
          "base_uri": "https://localhost:8080/",
          "height": 300
        },
        "id": "Y70jlRMG0svN",
        "outputId": "2d2b5867-7c76-4507-aac2-c30202c2b86d"
      },
      "execution_count": 570,
      "outputs": [
        {
          "output_type": "execute_result",
          "data": {
            "text/plain": [
              "               Open          High           Low         Close     Adj Close  \\\n",
              "count   1228.000000   1228.000000   1228.000000   1228.000000   1228.000000   \n",
              "mean   58672.198697  59218.916938  58108.021173  58642.467427  55159.411356   \n",
              "std    13340.045603  13411.046319  13265.745450  13313.072735  14441.999633   \n",
              "min    37450.000000  37600.000000  36850.000000  37450.000000  33533.847660   \n",
              "25%    47150.000000  47550.000000  46600.000000  47137.500000  42108.180665   \n",
              "50%    55550.000000  56200.000000  54950.000000  55450.000000  51871.818360   \n",
              "75%    70200.000000  70525.000000  69725.000000  70100.000000  68582.289060   \n",
              "max    90300.000000  96800.000000  89500.000000  91000.000000  87764.796880   \n",
              "\n",
              "             Volume  \n",
              "count  1.228000e+03  \n",
              "mean   1.561979e+07  \n",
              "std    8.432601e+06  \n",
              "min    0.000000e+00  \n",
              "25%    1.024662e+07  \n",
              "50%    1.379800e+07  \n",
              "75%    1.857676e+07  \n",
              "max    9.030618e+07  "
            ],
            "text/html": [
              "\n",
              "  <div id=\"df-f4c88706-3d32-4a09-9a0c-53bdb6b60e78\">\n",
              "    <div class=\"colab-df-container\">\n",
              "      <div>\n",
              "<style scoped>\n",
              "    .dataframe tbody tr th:only-of-type {\n",
              "        vertical-align: middle;\n",
              "    }\n",
              "\n",
              "    .dataframe tbody tr th {\n",
              "        vertical-align: top;\n",
              "    }\n",
              "\n",
              "    .dataframe thead th {\n",
              "        text-align: right;\n",
              "    }\n",
              "</style>\n",
              "<table border=\"1\" class=\"dataframe\">\n",
              "  <thead>\n",
              "    <tr style=\"text-align: right;\">\n",
              "      <th></th>\n",
              "      <th>Open</th>\n",
              "      <th>High</th>\n",
              "      <th>Low</th>\n",
              "      <th>Close</th>\n",
              "      <th>Adj Close</th>\n",
              "      <th>Volume</th>\n",
              "    </tr>\n",
              "  </thead>\n",
              "  <tbody>\n",
              "    <tr>\n",
              "      <th>count</th>\n",
              "      <td>1228.000000</td>\n",
              "      <td>1228.000000</td>\n",
              "      <td>1228.000000</td>\n",
              "      <td>1228.000000</td>\n",
              "      <td>1228.000000</td>\n",
              "      <td>1.228000e+03</td>\n",
              "    </tr>\n",
              "    <tr>\n",
              "      <th>mean</th>\n",
              "      <td>58672.198697</td>\n",
              "      <td>59218.916938</td>\n",
              "      <td>58108.021173</td>\n",
              "      <td>58642.467427</td>\n",
              "      <td>55159.411356</td>\n",
              "      <td>1.561979e+07</td>\n",
              "    </tr>\n",
              "    <tr>\n",
              "      <th>std</th>\n",
              "      <td>13340.045603</td>\n",
              "      <td>13411.046319</td>\n",
              "      <td>13265.745450</td>\n",
              "      <td>13313.072735</td>\n",
              "      <td>14441.999633</td>\n",
              "      <td>8.432601e+06</td>\n",
              "    </tr>\n",
              "    <tr>\n",
              "      <th>min</th>\n",
              "      <td>37450.000000</td>\n",
              "      <td>37600.000000</td>\n",
              "      <td>36850.000000</td>\n",
              "      <td>37450.000000</td>\n",
              "      <td>33533.847660</td>\n",
              "      <td>0.000000e+00</td>\n",
              "    </tr>\n",
              "    <tr>\n",
              "      <th>25%</th>\n",
              "      <td>47150.000000</td>\n",
              "      <td>47550.000000</td>\n",
              "      <td>46600.000000</td>\n",
              "      <td>47137.500000</td>\n",
              "      <td>42108.180665</td>\n",
              "      <td>1.024662e+07</td>\n",
              "    </tr>\n",
              "    <tr>\n",
              "      <th>50%</th>\n",
              "      <td>55550.000000</td>\n",
              "      <td>56200.000000</td>\n",
              "      <td>54950.000000</td>\n",
              "      <td>55450.000000</td>\n",
              "      <td>51871.818360</td>\n",
              "      <td>1.379800e+07</td>\n",
              "    </tr>\n",
              "    <tr>\n",
              "      <th>75%</th>\n",
              "      <td>70200.000000</td>\n",
              "      <td>70525.000000</td>\n",
              "      <td>69725.000000</td>\n",
              "      <td>70100.000000</td>\n",
              "      <td>68582.289060</td>\n",
              "      <td>1.857676e+07</td>\n",
              "    </tr>\n",
              "    <tr>\n",
              "      <th>max</th>\n",
              "      <td>90300.000000</td>\n",
              "      <td>96800.000000</td>\n",
              "      <td>89500.000000</td>\n",
              "      <td>91000.000000</td>\n",
              "      <td>87764.796880</td>\n",
              "      <td>9.030618e+07</td>\n",
              "    </tr>\n",
              "  </tbody>\n",
              "</table>\n",
              "</div>\n",
              "      <button class=\"colab-df-convert\" onclick=\"convertToInteractive('df-f4c88706-3d32-4a09-9a0c-53bdb6b60e78')\"\n",
              "              title=\"Convert this dataframe to an interactive table.\"\n",
              "              style=\"display:none;\">\n",
              "        \n",
              "  <svg xmlns=\"http://www.w3.org/2000/svg\" height=\"24px\"viewBox=\"0 0 24 24\"\n",
              "       width=\"24px\">\n",
              "    <path d=\"M0 0h24v24H0V0z\" fill=\"none\"/>\n",
              "    <path d=\"M18.56 5.44l.94 2.06.94-2.06 2.06-.94-2.06-.94-.94-2.06-.94 2.06-2.06.94zm-11 1L8.5 8.5l.94-2.06 2.06-.94-2.06-.94L8.5 2.5l-.94 2.06-2.06.94zm10 10l.94 2.06.94-2.06 2.06-.94-2.06-.94-.94-2.06-.94 2.06-2.06.94z\"/><path d=\"M17.41 7.96l-1.37-1.37c-.4-.4-.92-.59-1.43-.59-.52 0-1.04.2-1.43.59L10.3 9.45l-7.72 7.72c-.78.78-.78 2.05 0 2.83L4 21.41c.39.39.9.59 1.41.59.51 0 1.02-.2 1.41-.59l7.78-7.78 2.81-2.81c.8-.78.8-2.07 0-2.86zM5.41 20L4 18.59l7.72-7.72 1.47 1.35L5.41 20z\"/>\n",
              "  </svg>\n",
              "      </button>\n",
              "      \n",
              "  <style>\n",
              "    .colab-df-container {\n",
              "      display:flex;\n",
              "      flex-wrap:wrap;\n",
              "      gap: 12px;\n",
              "    }\n",
              "\n",
              "    .colab-df-convert {\n",
              "      background-color: #E8F0FE;\n",
              "      border: none;\n",
              "      border-radius: 50%;\n",
              "      cursor: pointer;\n",
              "      display: none;\n",
              "      fill: #1967D2;\n",
              "      height: 32px;\n",
              "      padding: 0 0 0 0;\n",
              "      width: 32px;\n",
              "    }\n",
              "\n",
              "    .colab-df-convert:hover {\n",
              "      background-color: #E2EBFA;\n",
              "      box-shadow: 0px 1px 2px rgba(60, 64, 67, 0.3), 0px 1px 3px 1px rgba(60, 64, 67, 0.15);\n",
              "      fill: #174EA6;\n",
              "    }\n",
              "\n",
              "    [theme=dark] .colab-df-convert {\n",
              "      background-color: #3B4455;\n",
              "      fill: #D2E3FC;\n",
              "    }\n",
              "\n",
              "    [theme=dark] .colab-df-convert:hover {\n",
              "      background-color: #434B5C;\n",
              "      box-shadow: 0px 1px 3px 1px rgba(0, 0, 0, 0.15);\n",
              "      filter: drop-shadow(0px 1px 2px rgba(0, 0, 0, 0.3));\n",
              "      fill: #FFFFFF;\n",
              "    }\n",
              "  </style>\n",
              "\n",
              "      <script>\n",
              "        const buttonEl =\n",
              "          document.querySelector('#df-f4c88706-3d32-4a09-9a0c-53bdb6b60e78 button.colab-df-convert');\n",
              "        buttonEl.style.display =\n",
              "          google.colab.kernel.accessAllowed ? 'block' : 'none';\n",
              "\n",
              "        async function convertToInteractive(key) {\n",
              "          const element = document.querySelector('#df-f4c88706-3d32-4a09-9a0c-53bdb6b60e78');\n",
              "          const dataTable =\n",
              "            await google.colab.kernel.invokeFunction('convertToInteractive',\n",
              "                                                     [key], {});\n",
              "          if (!dataTable) return;\n",
              "\n",
              "          const docLinkHtml = 'Like what you see? Visit the ' +\n",
              "            '<a target=\"_blank\" href=https://colab.research.google.com/notebooks/data_table.ipynb>data table notebook</a>'\n",
              "            + ' to learn more about interactive tables.';\n",
              "          element.innerHTML = '';\n",
              "          dataTable['output_type'] = 'display_data';\n",
              "          await google.colab.output.renderOutput(dataTable, element);\n",
              "          const docLink = document.createElement('div');\n",
              "          docLink.innerHTML = docLinkHtml;\n",
              "          element.appendChild(docLink);\n",
              "        }\n",
              "      </script>\n",
              "    </div>\n",
              "  </div>\n",
              "  "
            ]
          },
          "metadata": {},
          "execution_count": 570
        }
      ]
    },
    {
      "cell_type": "code",
      "source": [
        "# 각 column에 null인 값이 있는지 확인\n",
        "\n",
        "data.isnull().sum()"
      ],
      "metadata": {
        "colab": {
          "base_uri": "https://localhost:8080/"
        },
        "id": "exDWl_QD00fY",
        "outputId": "86280091-6dba-4543-8f31-4831963a6198"
      },
      "execution_count": 571,
      "outputs": [
        {
          "output_type": "execute_result",
          "data": {
            "text/plain": [
              "Date         0\n",
              "Open         0\n",
              "High         0\n",
              "Low          0\n",
              "Close        0\n",
              "Adj Close    0\n",
              "Volume       0\n",
              "dtype: int64"
            ]
          },
          "metadata": {},
          "execution_count": 571
        }
      ]
    },
    {
      "cell_type": "code",
      "source": [
        "# 각 column에 0이 몇개인지 확인\n",
        "\n",
        "for col in data.columns:\n",
        "    missing_rows = data.loc[data[col]==0].shape[0]\n",
        "    print(col + ': ' + str(missing_rows))"
      ],
      "metadata": {
        "colab": {
          "base_uri": "https://localhost:8080/"
        },
        "id": "fDHOh4WZ08sI",
        "outputId": "15de25bc-809c-410d-f87e-c6ec96eb09db"
      },
      "execution_count": 572,
      "outputs": [
        {
          "output_type": "stream",
          "name": "stdout",
          "text": [
            "Date: 0\n",
            "Open: 0\n",
            "High: 0\n",
            "Low: 0\n",
            "Close: 0\n",
            "Adj Close: 0\n",
            "Volume: 16\n"
          ]
        }
      ]
    },
    {
      "cell_type": "code",
      "source": [
        "# Volume의 값이 0이면 NaN으로 바꿈\n",
        "\n",
        "data['Volume'] = data['Volume'].replace(0, np.nan)"
      ],
      "metadata": {
        "id": "yQBt5ykl1A4-"
      },
      "execution_count": 573,
      "outputs": []
    },
    {
      "cell_type": "code",
      "source": [
        "# 각 column에 0인 값이 몇 개인지 확인\n",
        "\n",
        "for col in data.columns:\n",
        "\n",
        "    missing_rows = data.loc[data[col]==0].shape[0]\n",
        "    print(col + ': ' + str(missing_rows))"
      ],
      "metadata": {
        "colab": {
          "base_uri": "https://localhost:8080/"
        },
        "id": "ERFYvfxZ_i1L",
        "outputId": "576f52e7-0afc-4e27-9470-f1ce2c9b1394"
      },
      "execution_count": 574,
      "outputs": [
        {
          "output_type": "stream",
          "name": "stdout",
          "text": [
            "Date: 0\n",
            "Open: 0\n",
            "High: 0\n",
            "Low: 0\n",
            "Close: 0\n",
            "Adj Close: 0\n",
            "Volume: 0\n"
          ]
        }
      ]
    },
    {
      "cell_type": "code",
      "source": [
        "# 각 column에 null인 값이 몇 개인지 확인\n",
        "\n",
        "data.isnull().sum()"
      ],
      "metadata": {
        "colab": {
          "base_uri": "https://localhost:8080/"
        },
        "id": "EIWFrIbb1C32",
        "outputId": "437723ff-3bed-482f-ea92-824b4fa0284f"
      },
      "execution_count": 575,
      "outputs": [
        {
          "output_type": "execute_result",
          "data": {
            "text/plain": [
              "Date          0\n",
              "Open          0\n",
              "High          0\n",
              "Low           0\n",
              "Close         0\n",
              "Adj Close     0\n",
              "Volume       16\n",
              "dtype: int64"
            ]
          },
          "metadata": {},
          "execution_count": 575
        }
      ]
    },
    {
      "cell_type": "code",
      "source": [
        "#각 행에 null인 값이 있는지 확인\n",
        "data.isnull().any()"
      ],
      "metadata": {
        "colab": {
          "base_uri": "https://localhost:8080/"
        },
        "id": "GyCuhJ2l1EV2",
        "outputId": "a4a6b1bf-d81f-448f-c2ee-53db3cb3e67d"
      },
      "execution_count": 576,
      "outputs": [
        {
          "output_type": "execute_result",
          "data": {
            "text/plain": [
              "Date         False\n",
              "Open         False\n",
              "High         False\n",
              "Low          False\n",
              "Close        False\n",
              "Adj Close    False\n",
              "Volume        True\n",
              "dtype: bool"
            ]
          },
          "metadata": {},
          "execution_count": 576
        }
      ]
    },
    {
      "cell_type": "code",
      "source": [
        "#Open column에 na값이 있는 행 출력\n",
        "data.loc[data['Open'].isna()]"
      ],
      "metadata": {
        "colab": {
          "base_uri": "https://localhost:8080/",
          "height": 49
        },
        "id": "XL80-CUI1Gkw",
        "outputId": "febc3376-4df4-433b-e3fa-8f322b844788"
      },
      "execution_count": 577,
      "outputs": [
        {
          "output_type": "execute_result",
          "data": {
            "text/plain": [
              "Empty DataFrame\n",
              "Columns: [Date, Open, High, Low, Close, Adj Close, Volume]\n",
              "Index: []"
            ],
            "text/html": [
              "\n",
              "  <div id=\"df-6b5084da-68db-4923-b0b6-55d9539b7bc9\">\n",
              "    <div class=\"colab-df-container\">\n",
              "      <div>\n",
              "<style scoped>\n",
              "    .dataframe tbody tr th:only-of-type {\n",
              "        vertical-align: middle;\n",
              "    }\n",
              "\n",
              "    .dataframe tbody tr th {\n",
              "        vertical-align: top;\n",
              "    }\n",
              "\n",
              "    .dataframe thead th {\n",
              "        text-align: right;\n",
              "    }\n",
              "</style>\n",
              "<table border=\"1\" class=\"dataframe\">\n",
              "  <thead>\n",
              "    <tr style=\"text-align: right;\">\n",
              "      <th></th>\n",
              "      <th>Date</th>\n",
              "      <th>Open</th>\n",
              "      <th>High</th>\n",
              "      <th>Low</th>\n",
              "      <th>Close</th>\n",
              "      <th>Adj Close</th>\n",
              "      <th>Volume</th>\n",
              "    </tr>\n",
              "  </thead>\n",
              "  <tbody>\n",
              "  </tbody>\n",
              "</table>\n",
              "</div>\n",
              "      <button class=\"colab-df-convert\" onclick=\"convertToInteractive('df-6b5084da-68db-4923-b0b6-55d9539b7bc9')\"\n",
              "              title=\"Convert this dataframe to an interactive table.\"\n",
              "              style=\"display:none;\">\n",
              "        \n",
              "  <svg xmlns=\"http://www.w3.org/2000/svg\" height=\"24px\"viewBox=\"0 0 24 24\"\n",
              "       width=\"24px\">\n",
              "    <path d=\"M0 0h24v24H0V0z\" fill=\"none\"/>\n",
              "    <path d=\"M18.56 5.44l.94 2.06.94-2.06 2.06-.94-2.06-.94-.94-2.06-.94 2.06-2.06.94zm-11 1L8.5 8.5l.94-2.06 2.06-.94-2.06-.94L8.5 2.5l-.94 2.06-2.06.94zm10 10l.94 2.06.94-2.06 2.06-.94-2.06-.94-.94-2.06-.94 2.06-2.06.94z\"/><path d=\"M17.41 7.96l-1.37-1.37c-.4-.4-.92-.59-1.43-.59-.52 0-1.04.2-1.43.59L10.3 9.45l-7.72 7.72c-.78.78-.78 2.05 0 2.83L4 21.41c.39.39.9.59 1.41.59.51 0 1.02-.2 1.41-.59l7.78-7.78 2.81-2.81c.8-.78.8-2.07 0-2.86zM5.41 20L4 18.59l7.72-7.72 1.47 1.35L5.41 20z\"/>\n",
              "  </svg>\n",
              "      </button>\n",
              "      \n",
              "  <style>\n",
              "    .colab-df-container {\n",
              "      display:flex;\n",
              "      flex-wrap:wrap;\n",
              "      gap: 12px;\n",
              "    }\n",
              "\n",
              "    .colab-df-convert {\n",
              "      background-color: #E8F0FE;\n",
              "      border: none;\n",
              "      border-radius: 50%;\n",
              "      cursor: pointer;\n",
              "      display: none;\n",
              "      fill: #1967D2;\n",
              "      height: 32px;\n",
              "      padding: 0 0 0 0;\n",
              "      width: 32px;\n",
              "    }\n",
              "\n",
              "    .colab-df-convert:hover {\n",
              "      background-color: #E2EBFA;\n",
              "      box-shadow: 0px 1px 2px rgba(60, 64, 67, 0.3), 0px 1px 3px 1px rgba(60, 64, 67, 0.15);\n",
              "      fill: #174EA6;\n",
              "    }\n",
              "\n",
              "    [theme=dark] .colab-df-convert {\n",
              "      background-color: #3B4455;\n",
              "      fill: #D2E3FC;\n",
              "    }\n",
              "\n",
              "    [theme=dark] .colab-df-convert:hover {\n",
              "      background-color: #434B5C;\n",
              "      box-shadow: 0px 1px 3px 1px rgba(0, 0, 0, 0.15);\n",
              "      filter: drop-shadow(0px 1px 2px rgba(0, 0, 0, 0.3));\n",
              "      fill: #FFFFFF;\n",
              "    }\n",
              "  </style>\n",
              "\n",
              "      <script>\n",
              "        const buttonEl =\n",
              "          document.querySelector('#df-6b5084da-68db-4923-b0b6-55d9539b7bc9 button.colab-df-convert');\n",
              "        buttonEl.style.display =\n",
              "          google.colab.kernel.accessAllowed ? 'block' : 'none';\n",
              "\n",
              "        async function convertToInteractive(key) {\n",
              "          const element = document.querySelector('#df-6b5084da-68db-4923-b0b6-55d9539b7bc9');\n",
              "          const dataTable =\n",
              "            await google.colab.kernel.invokeFunction('convertToInteractive',\n",
              "                                                     [key], {});\n",
              "          if (!dataTable) return;\n",
              "\n",
              "          const docLinkHtml = 'Like what you see? Visit the ' +\n",
              "            '<a target=\"_blank\" href=https://colab.research.google.com/notebooks/data_table.ipynb>data table notebook</a>'\n",
              "            + ' to learn more about interactive tables.';\n",
              "          element.innerHTML = '';\n",
              "          dataTable['output_type'] = 'display_data';\n",
              "          await google.colab.output.renderOutput(dataTable, element);\n",
              "          const docLink = document.createElement('div');\n",
              "          docLink.innerHTML = docLinkHtml;\n",
              "          element.appendChild(docLink);\n",
              "        }\n",
              "      </script>\n",
              "    </div>\n",
              "  </div>\n",
              "  "
            ]
          },
          "metadata": {},
          "execution_count": 577
        }
      ]
    },
    {
      "cell_type": "code",
      "source": [
        "# na값이 있는 행 삭제\n",
        "\n",
        "data = data.dropna()\n",
        "\n",
        "# 각 column의 null 개수 출력\n",
        "data.isnull().sum()"
      ],
      "metadata": {
        "colab": {
          "base_uri": "https://localhost:8080/"
        },
        "id": "iwCdt7jG1IZQ",
        "outputId": "f7307653-3219-4916-907f-dc35f56532f3"
      },
      "execution_count": 578,
      "outputs": [
        {
          "output_type": "execute_result",
          "data": {
            "text/plain": [
              "Date         0\n",
              "Open         0\n",
              "High         0\n",
              "Low          0\n",
              "Close        0\n",
              "Adj Close    0\n",
              "Volume       0\n",
              "dtype: int64"
            ]
          },
          "metadata": {},
          "execution_count": 578
        }
      ]
    },
    {
      "cell_type": "code",
      "source": [
        "# Date column을 제외한 나머지 column들을 정규화\n",
        "\n",
        "scaler = MinMaxScaler()\n",
        "\n",
        "scale_cols = ['Open', 'High', 'Low', 'Close', 'Adj Close', 'Volume']\n",
        "scaled = scaler.fit_transform(data[scale_cols])\n",
        "scaled = pd.DataFrame(scaled, columns=scale_cols)\n",
        "\n",
        "print(scaled)"
      ],
      "metadata": {
        "colab": {
          "base_uri": "https://localhost:8080/"
        },
        "id": "zIRRH93_1LZz",
        "outputId": "45457a25-f3bf-4065-b1db-046d50ee073d"
      },
      "execution_count": 579,
      "outputs": [
        {
          "output_type": "stream",
          "name": "stdout",
          "text": [
            "          Open      High       Low     Close  Adj Close    Volume\n",
            "0     0.252602  0.239527  0.264957  0.250047   0.187821  0.098511\n",
            "1     0.253359  0.232095  0.250142  0.259384   0.195749  0.121753\n",
            "2     0.248817  0.231419  0.255081  0.257890   0.194481  0.057276\n",
            "3     0.261306  0.235811  0.250142  0.234734   0.174818  0.075468\n",
            "4     0.238221  0.226014  0.250142  0.248179   0.186235  0.077521\n",
            "...        ...       ...       ...       ...        ...       ...\n",
            "1207  0.453169  0.407095  0.454891  0.439776   0.506466  0.026443\n",
            "1208  0.436140  0.386824  0.435897  0.422969   0.489871  0.048691\n",
            "1209  0.424787  0.388514  0.435897  0.432306   0.499091  0.030357\n",
            "1210  0.434248  0.415541  0.443495  0.462185   0.528594  0.178841\n",
            "1211  0.485336  0.432432  0.483381  0.469655   0.535970  0.111700\n",
            "\n",
            "[1212 rows x 6 columns]\n"
          ]
        }
      ]
    },
    {
      "cell_type": "code",
      "source": [
        "# 특징 데이터와 label 데이터를 입력받아 시계열 데이터를 만든다.\n",
        "# shifting을 하여 window를 생성한다.\n",
        "\n",
        "def make_sequence(feature, label, window):\n",
        "\n",
        "    feature_list = []\n",
        "    label_list = []\n",
        "\n",
        "    # window 크기만큼의 데이터들을 특징 리스트의 각 항목에 저장하고 마지막의 다음 값을 label 리스트에 저장한다.\n",
        "    for i in range(len(feature)-window):\n",
        "\n",
        "        feature_list.append(feature[i:i+window])\n",
        "        label_list.append(label[i+window])\n",
        "\n",
        "    return np.array(feature_list), np.array(label_list)"
      ],
      "metadata": {
        "id": "BOYQZzks1NUJ"
      },
      "execution_count": 580,
      "outputs": []
    },
    {
      "cell_type": "code",
      "source": [
        "# 주가예측을 위한 특징 데이터로 Adj Close를 사용한다. label 데이터 또한 Adj Close로 사용한다.\n",
        "\n",
        "feature_cols = [ 'Adj Close' ]\n",
        "label_cols = [ 'Adj Close' ]\n",
        "\n",
        "feature_df = pd.DataFrame(scaled, columns=feature_cols)\n",
        "label_df = pd.DataFrame(scaled, columns=label_cols)"
      ],
      "metadata": {
        "id": "2cQIUFGU1UEv"
      },
      "execution_count": 581,
      "outputs": []
    },
    {
      "cell_type": "code",
      "source": [
        "# Pandas의 dataframe에서 numpy로 변환한다.\n",
        "\n",
        "feature = feature_df.to_numpy()\n",
        "label = label_df.to_numpy()"
      ],
      "metadata": {
        "id": "1d3lbW0A1Vxt"
      },
      "execution_count": 582,
      "outputs": []
    },
    {
      "cell_type": "code",
      "source": [
        "# 특징 데이터와 label을 사용하여 시계열 데이터를 생성한다.\n",
        "window = 40\n",
        "\n",
        "X, Y = make_sequence(feature, label, window)"
      ],
      "metadata": {
        "id": "VmhgEElF1XMh"
      },
      "execution_count": 583,
      "outputs": []
    },
    {
      "cell_type": "code",
      "source": [
        "# 훈련 데이터와 테스트 데이터를 8:2 비율로 분리한다.\n",
        "\n",
        "split = int(len(X)*0.8)\n",
        "\n",
        "x_train = X[0:split]\n",
        "y_train = Y[0:split]\n",
        "\n",
        "x_test = X[split:]\n",
        "y_test = Y[split:]"
      ],
      "metadata": {
        "id": "AB6IN9Pc1ZHh"
      },
      "execution_count": 584,
      "outputs": []
    },
    {
      "cell_type": "code",
      "source": [
        "# 레이어를 선형으로 연결하여 구성하기 위해 Sequential 모델을 생성한다.\n",
        "\n",
        "model = Sequential()\n",
        "\n",
        "#활성함수로는 ReLU 대신 tanh를 사용한다.\n",
        "model.add(LSTM(128, activation='tanh', input_shape=x_train[0].shape))\n",
        "model.add(Dense(1, activation='linear'))"
      ],
      "metadata": {
        "id": "cYv2n_lv1cUu"
      },
      "execution_count": 585,
      "outputs": []
    },
    {
      "cell_type": "code",
      "source": [
        "#손실함수로는 평균제곱오차를, 옵티마이저로는 adam을 사용한다.\n",
        "model.compile(loss='mse', optimizer='adam', metrics=['mae'])\n",
        "\n",
        "model.summary()"
      ],
      "metadata": {
        "colab": {
          "base_uri": "https://localhost:8080/"
        },
        "id": "gOtjjUAr1eDn",
        "outputId": "a4629bcc-2df9-4269-d766-51aa1c5a701c"
      },
      "execution_count": 586,
      "outputs": [
        {
          "output_type": "stream",
          "name": "stdout",
          "text": [
            "Model: \"sequential_25\"\n",
            "_________________________________________________________________\n",
            " Layer (type)                Output Shape              Param #   \n",
            "=================================================================\n",
            " lstm_29 (LSTM)              (None, 128)               66560     \n",
            "                                                                 \n",
            " dense_24 (Dense)            (None, 1)                 129       \n",
            "                                                                 \n",
            "=================================================================\n",
            "Total params: 66,689\n",
            "Trainable params: 66,689\n",
            "Non-trainable params: 0\n",
            "_________________________________________________________________\n"
          ]
        }
      ]
    },
    {
      "cell_type": "code",
      "source": [
        "#특정 조건에 도달하면 종료하기 위해 EarlyStopping을 사용한다.\n",
        "early_stop = EarlyStopping(monitor='val_loss', patience=5)\n",
        "\n",
        "model.fit(x_train, y_train, \n",
        "          validation_data=(x_test, y_test),\n",
        "          epochs=100, batch_size=16,\n",
        "          callbacks=[early_stop])"
      ],
      "metadata": {
        "colab": {
          "base_uri": "https://localhost:8080/"
        },
        "id": "I63ePb6-1fkP",
        "outputId": "c29dfc93-6a79-432d-d13d-4e40af58ad3c"
      },
      "execution_count": 587,
      "outputs": [
        {
          "output_type": "stream",
          "name": "stdout",
          "text": [
            "Epoch 1/100\n",
            "59/59 [==============================] - 4s 36ms/step - loss: 0.0201 - mae: 0.0850 - val_loss: 0.0011 - val_mae: 0.0262\n",
            "Epoch 2/100\n",
            "59/59 [==============================] - 2s 28ms/step - loss: 0.0014 - mae: 0.0268 - val_loss: 9.7972e-04 - val_mae: 0.0248\n",
            "Epoch 3/100\n",
            "59/59 [==============================] - 2s 28ms/step - loss: 0.0013 - mae: 0.0257 - val_loss: 9.1660e-04 - val_mae: 0.0239\n",
            "Epoch 4/100\n",
            "59/59 [==============================] - 2s 29ms/step - loss: 0.0012 - mae: 0.0248 - val_loss: 8.9794e-04 - val_mae: 0.0240\n",
            "Epoch 5/100\n",
            "59/59 [==============================] - 2s 32ms/step - loss: 0.0012 - mae: 0.0262 - val_loss: 7.9057e-04 - val_mae: 0.0222\n",
            "Epoch 6/100\n",
            "59/59 [==============================] - 2s 28ms/step - loss: 0.0011 - mae: 0.0245 - val_loss: 8.1161e-04 - val_mae: 0.0225\n",
            "Epoch 7/100\n",
            "59/59 [==============================] - 2s 29ms/step - loss: 0.0010 - mae: 0.0238 - val_loss: 8.2782e-04 - val_mae: 0.0229\n",
            "Epoch 8/100\n",
            "59/59 [==============================] - 2s 29ms/step - loss: 0.0011 - mae: 0.0242 - val_loss: 9.2735e-04 - val_mae: 0.0244\n",
            "Epoch 9/100\n",
            "59/59 [==============================] - 2s 28ms/step - loss: 9.5548e-04 - mae: 0.0226 - val_loss: 8.3194e-04 - val_mae: 0.0234\n",
            "Epoch 10/100\n",
            "59/59 [==============================] - 2s 28ms/step - loss: 9.2496e-04 - mae: 0.0220 - val_loss: 6.6238e-04 - val_mae: 0.0204\n",
            "Epoch 11/100\n",
            "59/59 [==============================] - 2s 29ms/step - loss: 9.1369e-04 - mae: 0.0222 - val_loss: 6.2862e-04 - val_mae: 0.0197\n",
            "Epoch 12/100\n",
            "59/59 [==============================] - 2s 31ms/step - loss: 8.5402e-04 - mae: 0.0216 - val_loss: 6.2135e-04 - val_mae: 0.0199\n",
            "Epoch 13/100\n",
            "59/59 [==============================] - 2s 31ms/step - loss: 8.6780e-04 - mae: 0.0218 - val_loss: 0.0011 - val_mae: 0.0275\n",
            "Epoch 14/100\n",
            "59/59 [==============================] - 2s 30ms/step - loss: 7.8142e-04 - mae: 0.0203 - val_loss: 5.9143e-04 - val_mae: 0.0193\n",
            "Epoch 15/100\n",
            "59/59 [==============================] - 2s 30ms/step - loss: 8.2421e-04 - mae: 0.0210 - val_loss: 9.9004e-04 - val_mae: 0.0264\n",
            "Epoch 16/100\n",
            "59/59 [==============================] - 2s 29ms/step - loss: 8.1981e-04 - mae: 0.0213 - val_loss: 5.6680e-04 - val_mae: 0.0188\n",
            "Epoch 17/100\n",
            "59/59 [==============================] - 2s 29ms/step - loss: 7.1179e-04 - mae: 0.0195 - val_loss: 5.5647e-04 - val_mae: 0.0187\n",
            "Epoch 18/100\n",
            "59/59 [==============================] - 2s 29ms/step - loss: 7.0114e-04 - mae: 0.0195 - val_loss: 6.3889e-04 - val_mae: 0.0207\n",
            "Epoch 19/100\n",
            "59/59 [==============================] - 2s 29ms/step - loss: 7.3257e-04 - mae: 0.0201 - val_loss: 5.8431e-04 - val_mae: 0.0198\n",
            "Epoch 20/100\n",
            "59/59 [==============================] - 2s 29ms/step - loss: 7.0864e-04 - mae: 0.0196 - val_loss: 6.1698e-04 - val_mae: 0.0193\n",
            "Epoch 21/100\n",
            "59/59 [==============================] - 2s 30ms/step - loss: 6.9266e-04 - mae: 0.0194 - val_loss: 5.2375e-04 - val_mae: 0.0186\n",
            "Epoch 22/100\n",
            "59/59 [==============================] - 2s 37ms/step - loss: 6.2272e-04 - mae: 0.0183 - val_loss: 5.2224e-04 - val_mae: 0.0181\n",
            "Epoch 23/100\n",
            "59/59 [==============================] - 2s 29ms/step - loss: 6.2093e-04 - mae: 0.0183 - val_loss: 5.6170e-04 - val_mae: 0.0196\n",
            "Epoch 24/100\n",
            "59/59 [==============================] - 2s 29ms/step - loss: 6.4472e-04 - mae: 0.0190 - val_loss: 0.0014 - val_mae: 0.0318\n",
            "Epoch 25/100\n",
            "59/59 [==============================] - 2s 28ms/step - loss: 7.4965e-04 - mae: 0.0207 - val_loss: 4.7414e-04 - val_mae: 0.0175\n",
            "Epoch 26/100\n",
            "59/59 [==============================] - 2s 28ms/step - loss: 5.7170e-04 - mae: 0.0178 - val_loss: 4.7174e-04 - val_mae: 0.0172\n",
            "Epoch 27/100\n",
            "59/59 [==============================] - 2s 28ms/step - loss: 5.3713e-04 - mae: 0.0168 - val_loss: 4.5315e-04 - val_mae: 0.0171\n",
            "Epoch 28/100\n",
            "59/59 [==============================] - 2s 28ms/step - loss: 5.8284e-04 - mae: 0.0178 - val_loss: 4.8103e-04 - val_mae: 0.0181\n",
            "Epoch 29/100\n",
            "59/59 [==============================] - 2s 29ms/step - loss: 5.2156e-04 - mae: 0.0169 - val_loss: 4.3479e-04 - val_mae: 0.0168\n",
            "Epoch 30/100\n",
            "59/59 [==============================] - 2s 30ms/step - loss: 5.4324e-04 - mae: 0.0173 - val_loss: 9.1745e-04 - val_mae: 0.0257\n",
            "Epoch 31/100\n",
            "59/59 [==============================] - 2s 29ms/step - loss: 5.4235e-04 - mae: 0.0173 - val_loss: 4.1362e-04 - val_mae: 0.0163\n",
            "Epoch 32/100\n",
            "59/59 [==============================] - 2s 28ms/step - loss: 5.7862e-04 - mae: 0.0181 - val_loss: 5.2642e-04 - val_mae: 0.0177\n",
            "Epoch 33/100\n",
            "59/59 [==============================] - 2s 28ms/step - loss: 5.2640e-04 - mae: 0.0171 - val_loss: 3.9434e-04 - val_mae: 0.0161\n",
            "Epoch 34/100\n",
            "59/59 [==============================] - 2s 28ms/step - loss: 4.5851e-04 - mae: 0.0160 - val_loss: 4.0681e-04 - val_mae: 0.0159\n",
            "Epoch 35/100\n",
            "59/59 [==============================] - 2s 29ms/step - loss: 4.4225e-04 - mae: 0.0157 - val_loss: 5.0614e-04 - val_mae: 0.0174\n",
            "Epoch 36/100\n",
            "59/59 [==============================] - 2s 28ms/step - loss: 4.3051e-04 - mae: 0.0154 - val_loss: 3.8305e-04 - val_mae: 0.0155\n",
            "Epoch 37/100\n",
            "59/59 [==============================] - 2s 29ms/step - loss: 4.2991e-04 - mae: 0.0152 - val_loss: 4.3999e-04 - val_mae: 0.0162\n",
            "Epoch 38/100\n",
            "59/59 [==============================] - 2s 28ms/step - loss: 4.1389e-04 - mae: 0.0152 - val_loss: 3.8380e-04 - val_mae: 0.0154\n",
            "Epoch 39/100\n",
            "59/59 [==============================] - 2s 30ms/step - loss: 4.2346e-04 - mae: 0.0152 - val_loss: 3.5927e-04 - val_mae: 0.0153\n",
            "Epoch 40/100\n",
            "59/59 [==============================] - 2s 30ms/step - loss: 4.6670e-04 - mae: 0.0162 - val_loss: 3.6611e-04 - val_mae: 0.0151\n",
            "Epoch 41/100\n",
            "59/59 [==============================] - 2s 27ms/step - loss: 4.2507e-04 - mae: 0.0154 - val_loss: 3.4772e-04 - val_mae: 0.0148\n",
            "Epoch 42/100\n",
            "59/59 [==============================] - 2s 28ms/step - loss: 3.9801e-04 - mae: 0.0146 - val_loss: 6.9246e-04 - val_mae: 0.0221\n",
            "Epoch 43/100\n",
            "59/59 [==============================] - 2s 29ms/step - loss: 4.0029e-04 - mae: 0.0149 - val_loss: 4.2979e-04 - val_mae: 0.0168\n",
            "Epoch 44/100\n",
            "59/59 [==============================] - 2s 28ms/step - loss: 3.7602e-04 - mae: 0.0143 - val_loss: 3.6319e-04 - val_mae: 0.0152\n",
            "Epoch 45/100\n",
            "59/59 [==============================] - 2s 28ms/step - loss: 3.6753e-04 - mae: 0.0138 - val_loss: 3.5906e-04 - val_mae: 0.0151\n",
            "Epoch 46/100\n",
            "59/59 [==============================] - 2s 28ms/step - loss: 3.5266e-04 - mae: 0.0139 - val_loss: 3.2475e-04 - val_mae: 0.0143\n",
            "Epoch 47/100\n",
            "59/59 [==============================] - 2s 30ms/step - loss: 3.4667e-04 - mae: 0.0138 - val_loss: 3.3326e-04 - val_mae: 0.0143\n",
            "Epoch 48/100\n",
            "59/59 [==============================] - 2s 29ms/step - loss: 3.4656e-04 - mae: 0.0136 - val_loss: 3.2120e-04 - val_mae: 0.0142\n",
            "Epoch 49/100\n",
            "59/59 [==============================] - 2s 29ms/step - loss: 3.4233e-04 - mae: 0.0138 - val_loss: 4.8428e-04 - val_mae: 0.0172\n",
            "Epoch 50/100\n",
            "59/59 [==============================] - 2s 28ms/step - loss: 3.7496e-04 - mae: 0.0146 - val_loss: 3.4399e-04 - val_mae: 0.0147\n",
            "Epoch 51/100\n",
            "59/59 [==============================] - 2s 29ms/step - loss: 3.2156e-04 - mae: 0.0131 - val_loss: 3.2641e-04 - val_mae: 0.0142\n",
            "Epoch 52/100\n",
            "59/59 [==============================] - 2s 29ms/step - loss: 3.1807e-04 - mae: 0.0130 - val_loss: 3.1155e-04 - val_mae: 0.0138\n",
            "Epoch 53/100\n",
            "59/59 [==============================] - 2s 29ms/step - loss: 3.2358e-04 - mae: 0.0132 - val_loss: 3.4516e-04 - val_mae: 0.0144\n",
            "Epoch 54/100\n",
            "59/59 [==============================] - 2s 29ms/step - loss: 3.1714e-04 - mae: 0.0131 - val_loss: 3.2779e-04 - val_mae: 0.0140\n",
            "Epoch 55/100\n",
            "59/59 [==============================] - 2s 28ms/step - loss: 3.2912e-04 - mae: 0.0133 - val_loss: 3.5173e-04 - val_mae: 0.0149\n",
            "Epoch 56/100\n",
            "59/59 [==============================] - 2s 29ms/step - loss: 3.1461e-04 - mae: 0.0130 - val_loss: 3.2147e-04 - val_mae: 0.0139\n",
            "Epoch 57/100\n",
            "59/59 [==============================] - 2s 29ms/step - loss: 3.0851e-04 - mae: 0.0128 - val_loss: 3.1431e-04 - val_mae: 0.0137\n"
          ]
        },
        {
          "output_type": "execute_result",
          "data": {
            "text/plain": [
              "<keras.callbacks.History at 0x7f8abef489d0>"
            ]
          },
          "metadata": {},
          "execution_count": 587
        }
      ]
    },
    {
      "cell_type": "code",
      "source": [
        "pred = model.predict(x_test)\n",
        "\n",
        "plt.figure(figsize=(12, 6))\n",
        "plt.title('adj Close')\n",
        "plt.ylabel('adj close')\n",
        "plt.xlabel('period')\n",
        "plt.plot(y_test, label='actual value')\n",
        "plt.plot(pred, label='predicted value')\n",
        "plt.grid()\n",
        "plt.legend(loc='best')\n",
        "\n",
        "plt.show()"
      ],
      "metadata": {
        "colab": {
          "base_uri": "https://localhost:8080/",
          "height": 422
        },
        "id": "RcxvI_hv1h0t",
        "outputId": "4723fe46-99a4-4edc-8a58-dc728204c0be"
      },
      "execution_count": 588,
      "outputs": [
        {
          "output_type": "stream",
          "name": "stdout",
          "text": [
            "8/8 [==============================] - 1s 17ms/step\n"
          ]
        },
        {
          "output_type": "display_data",
          "data": {
            "text/plain": [
              "<Figure size 864x432 with 1 Axes>"
            ],
            "image/png": "[encoded data removed]"
          },
          "metadata": {
            "needs_background": "light"
          }
        }
      ]
    },
    {
      "cell_type": "code",
      "source": [
        "# 평균 절대 백분율 오차를 계산한다.\n",
        "\n",
        "print( np.sum(abs(y_test-pred)/y_test) / len(x_test) )"
      ],
      "metadata": {
        "colab": {
          "base_uri": "https://localhost:8080/"
        },
        "id": "axvQuvv91rXq",
        "outputId": "db340f48-96e1-4e58-859a-f7182b52a814"
      },
      "execution_count": 589,
      "outputs": [
        {
          "output_type": "stream",
          "name": "stdout",
          "text": [
            "0.02516224327821375\n"
          ]
        }
      ]
    }
  ]
}